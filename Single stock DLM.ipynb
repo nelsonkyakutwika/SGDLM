{
 "cells": [
  {
   "cell_type": "markdown",
   "id": "7412535a",
   "metadata": {},
   "source": [
    "## Determination of RMSE AND MAD\n",
    "* Here, we run the DLM for each stock to determine out-of-sample forecast errors for comparison with the SGDLM."
   ]
  },
  {
   "cell_type": "code",
   "execution_count": 27,
   "id": "1a379e62",
   "metadata": {},
   "outputs": [
    {
     "name": "stdout",
     "output_type": "stream",
     "text": [
      "Missing stock prices before filling gaps = 1\n",
      "Missing stock prices after filling gaps = 0\n",
      "Lenght of closing prices =  2162\n",
      " \n",
      "TABLE SHOWING  CLOSING PRICES\n",
      "             SBK.JO\n",
      "Date               \n",
      "2014-01-01  12942.0\n",
      "2014-01-02  13031.0\n",
      "2014-01-03  12853.0\n",
      "2014-01-06  12630.0\n",
      "2014-01-07  12886.0\n",
      " \n",
      "TABLE SHOWING  LOG-RETURNS\n",
      "              SBK.JO\n",
      "Date                \n",
      "2014-01-02  0.006853\n",
      "2014-01-03 -0.013754\n",
      "2014-01-06 -0.017502\n",
      "2014-01-07  0.020067\n",
      "2014-01-08 -0.007321\n"
     ]
    }
   ],
   "source": [
    "import numpy as np                                          # load modules\n",
    "import pandas as pd\n",
    "import yfinance as yf\n",
    "\n",
    "start_date = \"2014-01-01\"                                          # specifies time length\n",
    "end_date = \"2022-06-30\"\n",
    "\n",
    "                                                        # Entries here should be entered as desired                              \n",
    "tickers = ['SBK.JO']\n",
    "\n",
    "Close = pd.DataFrame(columns = tickers)                           # ensures that data comes in a data frame\n",
    "\n",
    "for ticker in tickers:                                           # downloads prices of stocks from Yahoo! Finance\n",
    "    Close[ticker] = yf.download(ticker, start_date, end_date, progress = False)['Close']\n",
    "    \n",
    "Close[2151:2152] = Close[2151:2152].multiply(np.nan) # changes entire row to nan   \n",
    "print('Missing stock prices before filling gaps =', Close.isnull().sum().sum())\n",
    "Close = Close.interpolate(limit_direction = 'both')                  # fills missing values using linear interpolation\n",
    "print('Missing stock prices after filling gaps =', Close.isnull().sum().sum())  \n",
    "print('Lenght of closing prices = ', len(Close))\n",
    "print(\" \")\n",
    "\n",
    "returns = np.log(Close[tickers]).diff()      # calculates log-returns\n",
    "data = returns[1:]\n",
    "print(\"TABLE SHOWING  CLOSING PRICES\")\n",
    "print(Close[0:5])\n",
    "print(\" \")\n",
    "print(\"TABLE SHOWING  LOG-RETURNS\")\n",
    "print(data[0:5])"
   ]
  },
  {
   "cell_type": "markdown",
   "id": "c9ae0e6f",
   "metadata": {},
   "source": [
    "### Determination of beta"
   ]
  },
  {
   "cell_type": "code",
   "execution_count": 28,
   "id": "f41f1c93",
   "metadata": {},
   "outputs": [
    {
     "name": "stdout",
     "output_type": "stream",
     "text": [
      "Optimal beta =  0.95\n"
     ]
    }
   ],
   "source": [
    "import math\n",
    "df_range = np.linspace(0.8, 0.99, num = 20)\n",
    "\n",
    "LLH_list = []\n",
    "for beta in df_range:\n",
    "\n",
    "   a = 0\n",
    "   R =  0.0001\n",
    "   c = 0.001\n",
    "   r = 5\n",
    "\n",
    "   delta = 0.999\n",
    "\n",
    "   time_length_2 = range(782, 1288)\n",
    "\n",
    "   LLH_comp_list = []\n",
    "\n",
    "   for t in time_length_2:\n",
    "    \n",
    "      f =  a\n",
    "      q = R + c\n",
    "\n",
    "      e = data[tickers[0]][t]- f\n",
    "      A = R/q\n",
    "      z = (r + (e**2)/q)/(r+1)\n",
    "\n",
    "      part_1 = np.log( math.gamma((r + 1)/2) / ( math.gamma(r/2)*(r*math.pi*q)**0.5)) \n",
    "      part_2 =  ((r+1)/2) * np.log( 1 + (e**2)/(r*q))\n",
    "      LLH_comp  = part_1 - part_2\n",
    "      LLH_comp_list.append(LLH_comp)\n",
    "\n",
    "      m = a + A*e\n",
    "      C = (R - A*A*q)*z\n",
    "      n = r+1\n",
    "      s =  c*z\n",
    "\n",
    "      a =  m\n",
    "\n",
    "      W =  C*(1-delta)/delta\n",
    "      R = C + W\n",
    "\n",
    "      c = s\n",
    "      r = beta*n\n",
    "   LLH = sum(LLH_comp_list)\n",
    "   LLH_list.append(LLH)\n",
    "\n",
    "beta = round(df_range[np.argmax(LLH_list)], 2)\n",
    "\n",
    "print(\"Optimal beta = \", df_range[np.argmax(LLH_list)])    "
   ]
  },
  {
   "cell_type": "markdown",
   "id": "bac8c587",
   "metadata": {},
   "source": [
    "### Determination of delta"
   ]
  },
  {
   "cell_type": "code",
   "execution_count": 29,
   "id": "a7f6c7aa",
   "metadata": {},
   "outputs": [
    {
     "name": "stdout",
     "output_type": "stream",
     "text": [
      "Optimal delta = 0.999\n"
     ]
    }
   ],
   "source": [
    "import math\n",
    "df_range = np.linspace(0.99, 0.999, num = 10)\n",
    "\n",
    "LLH_list = []\n",
    "for delta in df_range:\n",
    "\n",
    "   a = 0\n",
    "   R = 0.0001\n",
    "   c = 0.001\n",
    "   r = 5\n",
    "\n",
    "   beta = beta\n",
    "   time_length_2 = range(782, 1288)\n",
    "\n",
    "   LLH_comp_list = []\n",
    "\n",
    "   for t in time_length_2:\n",
    "    \n",
    "      f =  a\n",
    "      q = R + c\n",
    "\n",
    "      e = data[tickers[0]][t]- f\n",
    "      A = R/q\n",
    "      z = (r + (e**2)/q)/(r+1)\n",
    "\n",
    "      part_1 = np.log( math.gamma((r + 1)/2) / ( math.gamma(r/2)*(r*math.pi*q)**0.5)) \n",
    "      part_2 =  ((r+1)/2) * np.log( 1 + (e**2)/(r*q))\n",
    "      LLH_comp  = part_1 - part_2\n",
    "      LLH_comp_list.append(LLH_comp)\n",
    "\n",
    "      m = a + A*e\n",
    "      C = (R - A*A*q)*z\n",
    "      n = r+1\n",
    "      s =  c*z\n",
    "\n",
    "      a =  m\n",
    "\n",
    "      W =  C*(1-delta)/delta\n",
    "      R = C + W\n",
    "\n",
    "      c = s\n",
    "      r = beta*n\n",
    "\n",
    "   LLH = sum(LLH_comp_list)\n",
    "   LLH_list.append(LLH)\n",
    "\n",
    "delta = round(df_range[np.argmax(LLH_list)], 3)\n",
    "\n",
    "print(\"Optimal delta =\", delta) "
   ]
  },
  {
   "cell_type": "markdown",
   "id": "55e3df2e",
   "metadata": {},
   "source": [
    "### Determination of initial prior for the test phase "
   ]
  },
  {
   "cell_type": "code",
   "execution_count": 30,
   "id": "c4ef7111",
   "metadata": {},
   "outputs": [],
   "source": [
    "beta = beta\n",
    "delta = delta\n",
    "time_length_2 = range(782, 1288)\n",
    "\n",
    "a = 0\n",
    "R =  0.0001\n",
    "c = 0.001\n",
    "r = 5\n",
    "\n",
    "for t in time_length_2:\n",
    "\n",
    "    f =  a\n",
    "    q = R + c\n",
    "\n",
    "    e = data[tickers[0]][t] - f\n",
    "    A = R/q\n",
    "    z = (r + (e**2)/q)/(r+1)\n",
    "\n",
    "    m = a + A*e\n",
    "    C = (R - A*A*q)*z\n",
    "    n = r+1\n",
    "    s =  c*z\n",
    "\n",
    "    a =  m\n",
    "    W = C * (1 - delta)/delta\n",
    "    R = C + W\n",
    "    c = s\n",
    "    r = beta*n\n",
    "\n",
    "a_0 = a\n",
    "R_0 = R\n",
    "c_0 = c\n",
    "r_0 = r "
   ]
  },
  {
   "cell_type": "markdown",
   "id": "e8c697e8",
   "metadata": {},
   "source": [
    "### Test phase"
   ]
  },
  {
   "cell_type": "code",
   "execution_count": 31,
   "id": "1a39921f",
   "metadata": {},
   "outputs": [
    {
     "name": "stdout",
     "output_type": "stream",
     "text": [
      "Stock name =  SBK.JO\n",
      "RMSE =  0.023458335381630384\n",
      "MAD =  0.016468692281612844\n"
     ]
    }
   ],
   "source": [
    "beta = beta\n",
    "delta = delta\n",
    "time_length_3 = range(1288, 2161)\n",
    "\n",
    "a = a_0\n",
    "R  = R_0\n",
    "c = c_0\n",
    "r = r_0\n",
    "\n",
    "e_array = np.array([])\n",
    "in_interval_values = []\n",
    "for t in time_length_3:\n",
    "\n",
    "    f =  a\n",
    "    q = R + c\n",
    "\n",
    "    e = data[tickers[0]][t] - f\n",
    "    e_array = np.append(e_array, e)\n",
    "\n",
    "    A = R/q\n",
    "    z = (r + (e**2)/q)/(r+1)\n",
    "\n",
    "    m = a + A*e\n",
    "    C = (R - A*A*q)*z\n",
    "    n = r+1\n",
    "    s =  c*z\n",
    "\n",
    "    a =  m\n",
    "    W = C * (1 - delta)/delta\n",
    "    R = C + W\n",
    "    c = s\n",
    "    r = beta*n\n",
    "\n",
    "MAD = sum(np.absolute(e_array))/ len(time_length_3)\n",
    "RMSE = math.sqrt( sum(e_array**2) /  len(time_length_3))\n",
    "interval_coverage =  len(in_interval_values)/ len(time_length_3)*100 \n",
    "print('Stock name = ',  ticker)\n",
    "print(\"RMSE = \", RMSE)\n",
    "print(\"MAD = \", MAD)"
   ]
  }
 ],
 "metadata": {
  "kernelspec": {
   "display_name": "Python 3 (ipykernel)",
   "language": "python",
   "name": "python3"
  },
  "language_info": {
   "codemirror_mode": {
    "name": "ipython",
    "version": 3
   },
   "file_extension": ".py",
   "mimetype": "text/x-python",
   "name": "python",
   "nbconvert_exporter": "python",
   "pygments_lexer": "ipython3",
   "version": "3.10.5"
  },
  "varInspector": {
   "cols": {
    "lenName": 16,
    "lenType": 16,
    "lenVar": 40
   },
   "kernels_config": {
    "python": {
     "delete_cmd_postfix": "",
     "delete_cmd_prefix": "del ",
     "library": "var_list.py",
     "varRefreshCmd": "print(var_dic_list())"
    },
    "r": {
     "delete_cmd_postfix": ") ",
     "delete_cmd_prefix": "rm(",
     "library": "var_list.r",
     "varRefreshCmd": "cat(var_dic_list()) "
    }
   },
   "types_to_exclude": [
    "module",
    "function",
    "builtin_function_or_method",
    "instance",
    "_Feature"
   ],
   "window_display": false
  }
 },
 "nbformat": 4,
 "nbformat_minor": 5
}
